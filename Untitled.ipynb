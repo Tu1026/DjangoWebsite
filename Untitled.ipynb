{
 "cells": [
  {
   "cell_type": "code",
   "execution_count": 5,
   "id": "d42fb251",
   "metadata": {},
   "outputs": [],
   "source": [
    "from course.task import course_reg_task"
   ]
  },
  {
   "cell_type": "code",
   "execution_count": 11,
   "id": "f3d793d1",
   "metadata": {},
   "outputs": [],
   "source": [
    "result = course_reg_task.delay(\"cpsc 123\", \"s31302@gmail.com\", \"https://stackoverflow.com/questions/35483328/how-do-i-set-up-jupyter-ipython-notebook-for-django?rq=1\", 123)"
   ]
  },
  {
   "cell_type": "code",
   "execution_count": null,
   "id": "5be8de3f",
   "metadata": {},
   "outputs": [],
   "source": []
  }
 ],
 "metadata": {
  "kernelspec": {
   "display_name": "Django Shell-Plus",
   "language": "python",
   "name": "django_extensions"
  },
  "language_info": {
   "codemirror_mode": {
    "name": "ipython",
    "version": 3
   },
   "file_extension": ".py",
   "mimetype": "text/x-python",
   "name": "python",
   "nbconvert_exporter": "python",
   "pygments_lexer": "ipython3",
   "version": "3.8.5"
  }
 },
 "nbformat": 4,
 "nbformat_minor": 5
}
