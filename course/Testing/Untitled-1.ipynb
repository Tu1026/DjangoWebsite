{
 "cells": [
  {
   "cell_type": "code",
   "execution_count": null,
   "source": [
    "import discord\n",
    "import os\n",
    "uid = os.getenv('uid')\n",
    "TOKEN = os.getenv(\"word\")\n",
    "word = \"try\"\n",
    "def send_discord_message(word):\n",
    "   client = discord.Client()\n",
    "   @client.event\n",
    "   async def on_ready():\n",
    "      await client.get_channel(uid).send(f'Register for {word} RIGHT NOW!!!!!!!!!!!')\n",
    "      await client.get_channel(uid).send(f'Register for {word} RIGHT NOW!!!!!!!!!!!')\n",
    "      await client.get_channel(uid).send(f'Register for {word} RIGHT NOW!!!!!!!!!!!')\n",
    "      await client.get_channel(uid).send(f'Register for {word} RIGHT NOW!!!!!!!!!!!')\n",
    "      await client.get_channel(uid).send(f'Register for {word} RIGHT NOW!!!!!!!!!!!')\n",
    "      await client.close()\n",
    "      \n",
    "   client.run(TOKEN)\n",
    "   \n",
    "send_discord_message(word)"
   ],
   "outputs": [],
   "metadata": {}
  }
 ],
 "metadata": {
  "orig_nbformat": 4,
  "language_info": {
   "name": "python"
  }
 },
 "nbformat": 4,
 "nbformat_minor": 2
}